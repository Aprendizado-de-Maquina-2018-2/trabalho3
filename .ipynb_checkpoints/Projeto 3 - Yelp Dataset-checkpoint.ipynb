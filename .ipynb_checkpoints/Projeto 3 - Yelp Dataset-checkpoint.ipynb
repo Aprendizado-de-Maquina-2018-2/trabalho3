{
 "cells": [
  {
   "cell_type": "code",
   "execution_count": 1,
   "metadata": {},
   "outputs": [],
   "source": [
    "import pandas as pd\n",
    "import numpy as np\n",
    "import sklearn\n",
    "import matplotlib.pyplot as plt\n",
    "import seaborn as sns\n",
    "\n",
    "%matplotlib inline"
   ]
  },
  {
   "cell_type": "code",
   "execution_count": 2,
   "metadata": {},
   "outputs": [],
   "source": [
    "json_size = 150000\n",
    "for _json in pd.read_json('../yelp_dataset/yelp_academic_dataset_review.json', chunksize=json_size, lines=True):\n",
    "    reviews = _json\n",
    "    break"
   ]
  },
  {
   "cell_type": "code",
   "execution_count": 3,
   "metadata": {
    "scrolled": true
   },
   "outputs": [
    {
     "data": {
      "text/html": [
       "<div>\n",
       "<style scoped>\n",
       "    .dataframe tbody tr th:only-of-type {\n",
       "        vertical-align: middle;\n",
       "    }\n",
       "\n",
       "    .dataframe tbody tr th {\n",
       "        vertical-align: top;\n",
       "    }\n",
       "\n",
       "    .dataframe thead th {\n",
       "        text-align: right;\n",
       "    }\n",
       "</style>\n",
       "<table border=\"1\" class=\"dataframe\">\n",
       "  <thead>\n",
       "    <tr style=\"text-align: right;\">\n",
       "      <th></th>\n",
       "      <th>business_id</th>\n",
       "      <th>name</th>\n",
       "      <th>stars</th>\n",
       "    </tr>\n",
       "  </thead>\n",
       "  <tbody>\n",
       "    <tr>\n",
       "      <th>0</th>\n",
       "      <td>Apn5Q_b6Nz61Tq4XzPdf9A</td>\n",
       "      <td>Minhas Micro Brewery</td>\n",
       "      <td>4.0</td>\n",
       "    </tr>\n",
       "    <tr>\n",
       "      <th>1</th>\n",
       "      <td>AjEbIBw6ZFfln7ePHha9PA</td>\n",
       "      <td>CK'S BBQ &amp; Catering</td>\n",
       "      <td>4.5</td>\n",
       "    </tr>\n",
       "    <tr>\n",
       "      <th>2</th>\n",
       "      <td>O8S5hYJ1SMc8fA4QBtVujA</td>\n",
       "      <td>La Bastringue</td>\n",
       "      <td>4.0</td>\n",
       "    </tr>\n",
       "    <tr>\n",
       "      <th>3</th>\n",
       "      <td>bFzdJJ3wp3PZssNEsyU23g</td>\n",
       "      <td>Geico Insurance</td>\n",
       "      <td>1.5</td>\n",
       "    </tr>\n",
       "    <tr>\n",
       "      <th>4</th>\n",
       "      <td>8USyCYqpScwiNEb58Bt6CA</td>\n",
       "      <td>Action Engine</td>\n",
       "      <td>2.0</td>\n",
       "    </tr>\n",
       "  </tbody>\n",
       "</table>\n",
       "</div>"
      ],
      "text/plain": [
       "              business_id                  name  stars\n",
       "0  Apn5Q_b6Nz61Tq4XzPdf9A  Minhas Micro Brewery    4.0\n",
       "1  AjEbIBw6ZFfln7ePHha9PA   CK'S BBQ & Catering    4.5\n",
       "2  O8S5hYJ1SMc8fA4QBtVujA         La Bastringue    4.0\n",
       "3  bFzdJJ3wp3PZssNEsyU23g       Geico Insurance    1.5\n",
       "4  8USyCYqpScwiNEb58Bt6CA         Action Engine    2.0"
      ]
     },
     "execution_count": 3,
     "metadata": {},
     "output_type": "execute_result"
    }
   ],
   "source": [
    "business = pd.read_json('../yelp_dataset/yelp_academic_dataset_business.json', lines=True)\n",
    "columns_to_stay = ['business_id','name','stars']\n",
    "business = business[columns_to_stay]\n",
    "business.head()"
   ]
  },
  {
   "cell_type": "code",
   "execution_count": 4,
   "metadata": {},
   "outputs": [
    {
     "data": {
      "text/html": [
       "<div>\n",
       "<style scoped>\n",
       "    .dataframe tbody tr th:only-of-type {\n",
       "        vertical-align: middle;\n",
       "    }\n",
       "\n",
       "    .dataframe tbody tr th {\n",
       "        vertical-align: top;\n",
       "    }\n",
       "\n",
       "    .dataframe thead th {\n",
       "        text-align: right;\n",
       "    }\n",
       "</style>\n",
       "<table border=\"1\" class=\"dataframe\">\n",
       "  <thead>\n",
       "    <tr style=\"text-align: right;\">\n",
       "      <th></th>\n",
       "      <th>name</th>\n",
       "      <th>business_id</th>\n",
       "      <th>text</th>\n",
       "      <th>review stars</th>\n",
       "      <th>business stars</th>\n",
       "      <th>cool</th>\n",
       "    </tr>\n",
       "  </thead>\n",
       "  <tbody>\n",
       "    <tr>\n",
       "      <th>0</th>\n",
       "      <td>Secret Pizza</td>\n",
       "      <td>iCQpiavjjPzJ5_3gPD5Ebg</td>\n",
       "      <td>The pizza was okay. Not the best I've had. I p...</td>\n",
       "      <td>2</td>\n",
       "      <td>4.0</td>\n",
       "      <td>0</td>\n",
       "    </tr>\n",
       "    <tr>\n",
       "      <th>1</th>\n",
       "      <td>Leticia's Mexican Cocina</td>\n",
       "      <td>pomGBqfbxcqPv14c3XH-ZQ</td>\n",
       "      <td>I love this place! My fiance And I go here atl...</td>\n",
       "      <td>5</td>\n",
       "      <td>4.0</td>\n",
       "      <td>0</td>\n",
       "    </tr>\n",
       "    <tr>\n",
       "      <th>2</th>\n",
       "      <td>H&amp;H BBQ Plus 2</td>\n",
       "      <td>jtQARsP6P-LbkyjbO1qNGg</td>\n",
       "      <td>Terrible. Dry corn bread. Rib tips were all fa...</td>\n",
       "      <td>1</td>\n",
       "      <td>3.5</td>\n",
       "      <td>1</td>\n",
       "    </tr>\n",
       "    <tr>\n",
       "      <th>3</th>\n",
       "      <td>Pin Kaow Thai Restaurant</td>\n",
       "      <td>elqbBhBfElMNSrjFqW3now</td>\n",
       "      <td>Back in 2005-2007 this place was my FAVORITE t...</td>\n",
       "      <td>2</td>\n",
       "      <td>4.0</td>\n",
       "      <td>0</td>\n",
       "    </tr>\n",
       "    <tr>\n",
       "      <th>4</th>\n",
       "      <td>Braddah's Island Style</td>\n",
       "      <td>Ums3gaP2qM3W1XcA5r6SsQ</td>\n",
       "      <td>Delicious healthy food. The steak is amazing. ...</td>\n",
       "      <td>5</td>\n",
       "      <td>4.0</td>\n",
       "      <td>0</td>\n",
       "    </tr>\n",
       "  </tbody>\n",
       "</table>\n",
       "</div>"
      ],
      "text/plain": [
       "                       name             business_id  \\\n",
       "0              Secret Pizza  iCQpiavjjPzJ5_3gPD5Ebg   \n",
       "1  Leticia's Mexican Cocina  pomGBqfbxcqPv14c3XH-ZQ   \n",
       "2            H&H BBQ Plus 2  jtQARsP6P-LbkyjbO1qNGg   \n",
       "3  Pin Kaow Thai Restaurant  elqbBhBfElMNSrjFqW3now   \n",
       "4    Braddah's Island Style  Ums3gaP2qM3W1XcA5r6SsQ   \n",
       "\n",
       "                                                text  review stars  \\\n",
       "0  The pizza was okay. Not the best I've had. I p...             2   \n",
       "1  I love this place! My fiance And I go here atl...             5   \n",
       "2  Terrible. Dry corn bread. Rib tips were all fa...             1   \n",
       "3  Back in 2005-2007 this place was my FAVORITE t...             2   \n",
       "4  Delicious healthy food. The steak is amazing. ...             5   \n",
       "\n",
       "   business stars  cool  \n",
       "0             4.0     0  \n",
       "1             4.0     0  \n",
       "2             3.5     1  \n",
       "3             4.0     0  \n",
       "4             4.0     0  "
      ]
     },
     "execution_count": 4,
     "metadata": {},
     "output_type": "execute_result"
    }
   ],
   "source": [
    "dataset = reviews.merge(business,how='left', on='business_id')\n",
    "dataset.rename({'stars_x':'review stars', 'stars_y':'business stars'},inplace=True, axis='columns')\n",
    "dataset_columns_to_stay = ['name','business_id','text','review stars','business stars','cool']\n",
    "dataset = dataset[dataset_columns_to_stay]\n",
    "dataset.to_json('../yelp_dataset/dataset.json')\n",
    "dataset.head()"
   ]
  },
  {
   "cell_type": "code",
   "execution_count": 5,
   "metadata": {},
   "outputs": [],
   "source": [
    "from sklearn.pipeline import Pipeline, FeatureUnion\n",
    "from sklearn.feature_extraction.text import TfidfVectorizer\n",
    "from sklearn.svm import SVR\n",
    "from sklearn.model_selection import train_test_split\n",
    "from sklearn.metrics import mean_squared_error\n",
    "from sklearn.linear_model import LinearRegression\n",
    "from sklearn.neighbors import KNeighborsRegressor"
   ]
  },
  {
   "cell_type": "code",
   "execution_count": 6,
   "metadata": {},
   "outputs": [
    {
     "data": {
      "text/plain": [
       "(150000,)"
      ]
     },
     "execution_count": 6,
     "metadata": {},
     "output_type": "execute_result"
    }
   ],
   "source": [
    "dataset['review stars'].shape"
   ]
  },
  {
   "cell_type": "code",
   "execution_count": null,
   "metadata": {},
   "outputs": [],
   "source": [
    "X = dataset['text'].tolist()\n",
    "y = dataset['business stars'].tolist()\n",
    "\n",
    "\n",
    "# X = tfidf.fit_transform(_text)\n",
    "\n",
    "_pipe = Pipeline([\n",
    "    ('tfidf',TfidfVectorizer(stop_words='english',lowercase=True,analyzer='word',token_pattern=r'\\w+')),\n",
    "    ('linear', LinearRegression())\n",
    "])\n",
    "X_train, X_test, y_train, y_test = train_test_split(X, y)\n",
    "\n",
    "_pipe.fit(X_train, y_train)\n",
    "predict_linear = _pipe.predict(X_test)\n",
    "print(mean_squared_error(y_test,predict))"
   ]
  },
  {
   "cell_type": "code",
   "execution_count": 19,
   "metadata": {},
   "outputs": [
    {
     "name": "stdout",
     "output_type": "stream",
     "text": [
      "1.4725898705033635\n"
     ]
    }
   ],
   "source": [
    "_pipe_knr = Pipeline([\n",
    "    ('tfidf',TfidfVectorizer(stop_words='english',lowercase=True,analyzer='word',token_pattern=r'\\w+')),\n",
    "    ('KNR', KNeighborsRegressor(n_neighbors=5))\n",
    "])\n",
    "_pipe_knr.fit(X_train, y_train)\n",
    "predict_knr = _pipe.predict(X_test)\n",
    "print(mean_squared_error(y_test,predict_knr))"
   ]
  },
  {
   "cell_type": "code",
   "execution_count": 12,
   "metadata": {},
   "outputs": [
    {
     "name": "stdout",
     "output_type": "stream",
     "text": [
      "1.5050907340857946\n"
     ]
    }
   ],
   "source": []
  }
 ],
 "metadata": {
  "kernelspec": {
   "display_name": "Python 3",
   "language": "python",
   "name": "python3"
  },
  "language_info": {
   "codemirror_mode": {
    "name": "ipython",
    "version": 3
   },
   "file_extension": ".py",
   "mimetype": "text/x-python",
   "name": "python",
   "nbconvert_exporter": "python",
   "pygments_lexer": "ipython3",
   "version": "3.5.3"
  }
 },
 "nbformat": 4,
 "nbformat_minor": 2
}
