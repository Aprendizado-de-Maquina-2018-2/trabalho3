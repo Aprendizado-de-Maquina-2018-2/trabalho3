{
 "cells": [
  {
   "cell_type": "code",
   "execution_count": 12,
   "metadata": {},
   "outputs": [],
   "source": [
    "import pandas as pd\n",
    "import numpy as np\n",
    "import sklearn\n",
    "import matplotlib.pyplot as plt\n",
    "import seaborn as sns\n",
    "from sklearn.model_selection import GridSearchCV\n",
    "from sklearn.pipeline import Pipeline, FeatureUnion\n",
    "from sklearn.feature_extraction.text import TfidfVectorizer\n",
    "from sklearn.svm import SVR\n",
    "from sklearn.model_selection import train_test_split\n",
    "from sklearn.metrics import mean_squared_error\n",
    "from sklearn.linear_model import LinearRegression\n",
    "from sklearn.neighbors import KNeighborsRegressor\n",
    "from sklearn import svm\n",
    "\n",
    "%matplotlib inline"
   ]
  },
  {
   "cell_type": "code",
   "execution_count": 23,
   "metadata": {},
   "outputs": [],
   "source": [
    "%matplotlib inline"
   ]
  },
  {
   "cell_type": "code",
   "execution_count": 13,
   "metadata": {},
   "outputs": [
    {
     "data": {
      "text/html": [
       "<div>\n",
       "<style scoped>\n",
       "    .dataframe tbody tr th:only-of-type {\n",
       "        vertical-align: middle;\n",
       "    }\n",
       "\n",
       "    .dataframe tbody tr th {\n",
       "        vertical-align: top;\n",
       "    }\n",
       "\n",
       "    .dataframe thead th {\n",
       "        text-align: right;\n",
       "    }\n",
       "</style>\n",
       "<table border=\"1\" class=\"dataframe\">\n",
       "  <thead>\n",
       "    <tr style=\"text-align: right;\">\n",
       "      <th></th>\n",
       "      <th>name</th>\n",
       "      <th>business_id</th>\n",
       "      <th>text</th>\n",
       "      <th>review stars</th>\n",
       "      <th>business stars</th>\n",
       "      <th>cool</th>\n",
       "    </tr>\n",
       "  </thead>\n",
       "  <tbody>\n",
       "    <tr>\n",
       "      <th>0</th>\n",
       "      <td>Secret Pizza</td>\n",
       "      <td>iCQpiavjjPzJ5_3gPD5Ebg</td>\n",
       "      <td>The pizza was okay. Not the best I've had. I p...</td>\n",
       "      <td>2</td>\n",
       "      <td>4.0</td>\n",
       "      <td>0</td>\n",
       "    </tr>\n",
       "    <tr>\n",
       "      <th>1</th>\n",
       "      <td>Leticia's Mexican Cocina</td>\n",
       "      <td>pomGBqfbxcqPv14c3XH-ZQ</td>\n",
       "      <td>I love this place! My fiance And I go here atl...</td>\n",
       "      <td>5</td>\n",
       "      <td>4.0</td>\n",
       "      <td>0</td>\n",
       "    </tr>\n",
       "    <tr>\n",
       "      <th>10</th>\n",
       "      <td>National Car Rental</td>\n",
       "      <td>yFumR3CWzpfvTH2FCthvVw</td>\n",
       "      <td>I have been an Emerald Club member for a numbe...</td>\n",
       "      <td>5</td>\n",
       "      <td>4.0</td>\n",
       "      <td>0</td>\n",
       "    </tr>\n",
       "    <tr>\n",
       "      <th>100</th>\n",
       "      <td>Other Mama</td>\n",
       "      <td>7wHLFohwCw8l6WS-feLjeg</td>\n",
       "      <td>I had an amazing time here. They were very bus...</td>\n",
       "      <td>5</td>\n",
       "      <td>4.5</td>\n",
       "      <td>1</td>\n",
       "    </tr>\n",
       "    <tr>\n",
       "      <th>1000</th>\n",
       "      <td>Noodle Pot</td>\n",
       "      <td>5Lcit9Zt6TF9bmKoFMhF0g</td>\n",
       "      <td>Terrible service period, since we don't speak ...</td>\n",
       "      <td>1</td>\n",
       "      <td>4.0</td>\n",
       "      <td>0</td>\n",
       "    </tr>\n",
       "  </tbody>\n",
       "</table>\n",
       "</div>"
      ],
      "text/plain": [
       "                          name             business_id  \\\n",
       "0                 Secret Pizza  iCQpiavjjPzJ5_3gPD5Ebg   \n",
       "1     Leticia's Mexican Cocina  pomGBqfbxcqPv14c3XH-ZQ   \n",
       "10         National Car Rental  yFumR3CWzpfvTH2FCthvVw   \n",
       "100                 Other Mama  7wHLFohwCw8l6WS-feLjeg   \n",
       "1000                Noodle Pot  5Lcit9Zt6TF9bmKoFMhF0g   \n",
       "\n",
       "                                                   text  review stars  \\\n",
       "0     The pizza was okay. Not the best I've had. I p...             2   \n",
       "1     I love this place! My fiance And I go here atl...             5   \n",
       "10    I have been an Emerald Club member for a numbe...             5   \n",
       "100   I had an amazing time here. They were very bus...             5   \n",
       "1000  Terrible service period, since we don't speak ...             1   \n",
       "\n",
       "      business stars  cool  \n",
       "0                4.0     0  \n",
       "1                4.0     0  \n",
       "10               4.0     0  \n",
       "100              4.5     1  \n",
       "1000             4.0     0  "
      ]
     },
     "execution_count": 13,
     "metadata": {},
     "output_type": "execute_result"
    }
   ],
   "source": [
    "dataset = pd.read_json('./data/dataset.json')\n",
    "dataset.head()"
   ]
  },
  {
   "cell_type": "code",
   "execution_count": 14,
   "metadata": {},
   "outputs": [],
   "source": [
    "X = dataset['text'].tolist()\n",
    "y = dataset['business stars'].tolist()\n",
    "X_train, X_test, y_train, y_test = train_test_split(X, y)"
   ]
  },
  {
   "cell_type": "code",
   "execution_count": 24,
   "metadata": {},
   "outputs": [],
   "source": [
    "_pipe = Pipeline([\n",
    "    ('tfidf',TfidfVectorizer(stop_words='english',lowercase=True,analyzer='word',token_pattern=r'\\w+')),\n",
    "    ('linear', LinearRegression())\n",
    "])\n",
    "\n",
    "\n",
    "_pipe.fit(X_train, y_train)\n",
    "predict_linear = _pipe.predict(X_test)"
   ]
  },
  {
   "cell_type": "code",
   "execution_count": 25,
   "metadata": {},
   "outputs": [
    {
     "name": "stdout",
     "output_type": "stream",
     "text": [
      "1.4095771769238785\n"
     ]
    }
   ],
   "source": [
    "print(mean_squared_error(y_test,predict_linear))"
   ]
  },
  {
   "cell_type": "code",
   "execution_count": 26,
   "metadata": {},
   "outputs": [],
   "source": [
    "_pipe_knr = Pipeline([\n",
    "    ('tfidf',TfidfVectorizer(stop_words='english',lowercase=True,analyzer='word',token_pattern=r'\\w+')),\n",
    "    ('KNR', KNeighborsRegressor(n_neighbors=5))\n",
    "])\n",
    "_pipe_knr.fit(X_train, y_train)\n",
    "predict_knr = _pipe_knr.predict(X_test)"
   ]
  },
  {
   "cell_type": "code",
   "execution_count": 27,
   "metadata": {},
   "outputs": [
    {
     "name": "stdout",
     "output_type": "stream",
     "text": [
      "1.2282103433762381\n"
     ]
    }
   ],
   "source": [
    "print(mean_squared_error(y_test,predict_knr))"
   ]
  },
  {
   "cell_type": "markdown",
   "metadata": {},
   "source": [
    "## Experiments using GridSearch"
   ]
  },
  {
   "cell_type": "code",
   "execution_count": 5,
   "metadata": {},
   "outputs": [],
   "source": [
    "# Diminuindo dataset para GridSearch\n",
    "\n",
    "n_df = dataset.sample(5000, replace=True)\n",
    "n_X_train = n_df['text']\n",
    "n_y_train = n_df['review stars']"
   ]
  },
  {
   "cell_type": "code",
   "execution_count": 6,
   "metadata": {
    "scrolled": false
   },
   "outputs": [
    {
     "name": "stdout",
     "output_type": "stream",
     "text": [
      "Best score :-1.5395214690797348\n",
      "Best params :{'KNR__leaf_size': 10, 'KNR__n_neighbors': 9, 'KNR__weights': 'distance'}\n"
     ]
    }
   ],
   "source": [
    "parameters = {'KNR__n_neighbors': (3, 4, 5, 6, 7, 8, 9) ,\n",
    "              'KNR__weights': ('uniform', 'distance'),\n",
    "              'KNR__leaf_size': (10, 20, 30, 40)\n",
    "             }\n",
    "\n",
    "_pipe_knr = Pipeline([\n",
    "    ('tfidf',TfidfVectorizer(stop_words='english',lowercase=True,analyzer='word',token_pattern=r'\\w+')),\n",
    "    ('KNR', KNeighborsRegressor())\n",
    "])\n",
    "\n",
    "gs_knr = GridSearchCV(_pipe_knr, parameters, cv=5, n_jobs=-1, scoring='neg_mean_squared_error')\n",
    "gs_knr.fit(n_X_train, n_y_train)\n",
    "print('Best score :' + str(gs_knr.best_score_))\n",
    "print('Best params :' + str(gs_knr.best_params_))"
   ]
  },
  {
   "cell_type": "code",
   "execution_count": 10,
   "metadata": {},
   "outputs": [
    {
     "name": "stdout",
     "output_type": "stream",
     "text": [
      "0.7963976416797578\n"
     ]
    }
   ],
   "source": [
    "_pipe_knr = Pipeline([\n",
    "    ('tfidf',TfidfVectorizer(stop_words='english',lowercase=True,analyzer='word',token_pattern=r'\\w+')),\n",
    "    ('KNR', KNeighborsRegressor(n_neighbors=9, leaf_size=10, weights='distance'))\n",
    "])\n",
    "_pipe_knr.fit(n_X_train, n_y_train)\n",
    "predict_knr = _pipe_knr.predict(X_test)\n",
    "print(mean_squared_error(y_test,predict_knr))"
   ]
  },
  {
   "cell_type": "code",
   "execution_count": null,
   "metadata": {},
   "outputs": [],
   "source": []
  }
 ],
 "metadata": {
  "kernelspec": {
   "display_name": "Python 3",
   "language": "python",
   "name": "python3"
  },
  "language_info": {
   "codemirror_mode": {
    "name": "ipython",
    "version": 3
   },
   "file_extension": ".py",
   "mimetype": "text/x-python",
   "name": "python",
   "nbconvert_exporter": "python",
   "pygments_lexer": "ipython3",
   "version": "3.6.5"
  }
 },
 "nbformat": 4,
 "nbformat_minor": 2
}
